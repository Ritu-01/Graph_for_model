{
  "nbformat": 4,
  "nbformat_minor": 0,
  "metadata": {
    "colab": {
      "provenance": [],
      "toc_visible": true,
      "include_colab_link": true
    },
    "kernelspec": {
      "name": "python3",
      "display_name": "Python 3"
    },
    "language_info": {
      "name": "python"
    }
  },
  "cells": [
    {
      "cell_type": "markdown",
      "metadata": {
        "id": "view-in-github",
        "colab_type": "text"
      },
      "source": [
        "<a href=\"https://colab.research.google.com/github/Ritu-01/Graph_for_model/blob/main/Copy_of_Module_7b_Making_a_graph_for_models_comparison_Antibiotic_resistance_CSC508.ipynb\" target=\"_parent\"><img src=\"https://colab.research.google.com/assets/colab-badge.svg\" alt=\"Open In Colab\"/></a>"
      ]
    },
    {
      "cell_type": "markdown",
      "metadata": {
        "id": "0jr_YDcEQgNX"
      },
      "source": [
        "##**Welcome to the module 7b coding part: Making a graph for Models comparison!**\n",
        "\n",
        "*This notebook was created at San Francisco State University (SFSU) for the Promoting INclusivity and Computing (PINC) and gSTAR programs by Dr. Pleuni Pennings (SFSU biology professor), Lucy Moctezuma Tan (California State University, East Bay CSUEB master student) and Lorena Benitez-Rivera (SFSU master student). All members of the COde to understand Drug resistance Evolution (CODE) lab in 2023.*\n",
        "\n",
        "The code is based on a project by Faye Orcales, Jameel Ali, Meris Johnson-Hagler, Kristiene Recto, Lucy Moctezuma Tan (all CODE lab members at SFSU), and in turn inspired by work by Danesh Moradigaravand and coauthors [Moradivaravand et al.](https://journals.plos.org/ploscompbiol/article?id=10.1371/journal.pcbi.1006258)"
      ]
    },
    {
      "cell_type": "markdown",
      "source": [
        "#OBJECTIVE OF THIS NOTEBOOK:\n",
        "\n",
        "**Recreating graphs of Accuracies and Recall**\n",
        "\n",
        "In this notebook we are going to create a graph that will let us compare the performance for all the three models used in notebooks 6b-7a:\n",
        "\n",
        "1.   **Gradient-Boosted Trees**\n",
        "2.   **Random Forest**\n",
        "3.   **Logistic Regression**\n",
        "\n",
        "We will also be able to check what combinations were best for each drug. Below is an example of the graph we want to achieve with this code:\n",
        "\n",
        "![main graph](https://drive.google.com/uc?export=view&id=1vXpJd53KWg2CjJUeAAfFk0iQdWzoKLF7)\n",
        "\n",
        "\n"
      ],
      "metadata": {
        "id": "mZzQPqYib3RV"
      }
    },
    {
      "cell_type": "markdown",
      "source": [
        "## **Step 1) Importing packages needed for visualization**\n",
        "\n",
        "**NOTE:** Please allow access to your google drive when prompted, this will let you create and store the files in your drive to be accessed."
      ],
      "metadata": {
        "id": "eyEsWoENgE1F"
      }
    },
    {
      "cell_type": "code",
      "execution_count": null,
      "metadata": {
        "id": "KI6qtXkG3ruy",
        "colab": {
          "base_uri": "https://localhost:8080/"
        },
        "outputId": "e7b8baf3-0833-4d11-8835-4fe8815c7b25"
      },
      "outputs": [
        {
          "output_type": "stream",
          "name": "stdout",
          "text": [
            "Mounted at /content/drive/\n"
          ]
        }
      ],
      "source": [
        "# Data Wrangling Imports\n",
        "import pandas as pd\n",
        "import numpy as np\n",
        "\n",
        "# Data visualization Imports\n",
        "import matplotlib.pyplot as plt\n",
        "import seaborn as sns\n",
        "import matplotlib.gridspec as gridspec\n",
        "from matplotlib.patches import Patch\n",
        "\n",
        "# File Manipulation Imports\n",
        "import os\n",
        "from google.colab import drive\n",
        "drive.mount('/content/drive/')"
      ]
    },
    {
      "cell_type": "markdown",
      "source": [
        "## **Step 2) Loading each models scores and join them into a single dictionary**"
      ],
      "metadata": {
        "id": "s31dSpjkgSZp"
      }
    },
    {
      "cell_type": "code",
      "source": [
        "# Loading all models metrics and joint them in a dictionary:\n",
        "filepath = \"/content/drive/MyDrive/EColi_ML_CSV_files/\"\n",
        "\n",
        "Model_Scores = {}\n",
        "\n",
        "# Loading all data frames\n",
        "LG_metrics = pd.read_csv(filepath+\"LG_metrics_df.csv\")\n",
        "RF_metrics = pd.read_csv(filepath+\"RF_metrics_df.csv\")\n",
        "GB_metrics = pd.read_csv(filepath+\"GB_metrics_df.csv\")\n",
        "\n",
        "# Adding all dataframes to dictionary\n",
        "Model_Scores[\"Logistic_Regression\"] = LG_metrics\n",
        "Model_Scores[\"Random_Forest\"] = RF_metrics\n",
        "Model_Scores[\"Gradient_Boosted_Trees\"] = GB_metrics\n"
      ],
      "metadata": {
        "id": "7a7nIbEvcVMB"
      },
      "execution_count": null,
      "outputs": []
    },
    {
      "cell_type": "markdown",
      "source": [
        "## **Step 3) Selecting only the bestscores for each drug from each model**"
      ],
      "metadata": {
        "id": "nHnUBCl-f4eQ"
      }
    },
    {
      "cell_type": "code",
      "source": [
        "# Extracting list of combos from dictionary created\n",
        "combo_list = list(Model_Scores['Gradient_Boosted_Trees'][\"Drug_combo\"].str.split(\"_\", expand= True)[1].unique())\n",
        "combo_list"
      ],
      "metadata": {
        "colab": {
          "base_uri": "https://localhost:8080/"
        },
        "id": "A8ZPxpuQPuJC",
        "outputId": "66632bb5-4f1d-45c3-9dcc-3990a179e591"
      },
      "execution_count": null,
      "outputs": [
        {
          "output_type": "execute_result",
          "data": {
            "text/plain": [
              "['G', 'S', 'GS', 'GYS']"
            ]
          },
          "metadata": {},
          "execution_count": 3
        }
      ]
    },
    {
      "cell_type": "code",
      "source": [
        "# Extracting list of drugs from dictionary created\n",
        "drug_list = list(Model_Scores['Gradient_Boosted_Trees'][\"Drug_combo\"].str[:3].unique())\n",
        "drug_list"
      ],
      "metadata": {
        "id": "bQVnCVGXgBZE",
        "colab": {
          "base_uri": "https://localhost:8080/"
        },
        "outputId": "99162dc3-93e0-4acf-8e22-d1e4f0a451e1"
      },
      "execution_count": null,
      "outputs": [
        {
          "output_type": "execute_result",
          "data": {
            "text/plain": [
              "['CTZ',\n",
              " 'CTX',\n",
              " 'AMP',\n",
              " 'AMX',\n",
              " 'AMC',\n",
              " 'TZP',\n",
              " 'CXM',\n",
              " 'CET',\n",
              " 'GEN',\n",
              " 'TBM',\n",
              " 'TMP',\n",
              " 'CIP']"
            ]
          },
          "metadata": {},
          "execution_count": 4
        }
      ]
    },
    {
      "cell_type": "markdown",
      "source": [
        "**a) Creating a function to scan the best metrics for each drug**"
      ],
      "metadata": {
        "id": "sAL7amSTca_8"
      }
    },
    {
      "cell_type": "code",
      "source": [
        "# creating function that will take the best scores from each model\n",
        "def Best_metrics(model,df):\n",
        "  print(\"Selecting Best Scores for model: \",model)\n",
        "  bestcores_dic = {}\n",
        "  for drug in drug_list:\n",
        "    data = df.loc[df[\"Drug_combo\"].str.startswith(drug)]\n",
        "    max_acc = max(data[\"Accuracy\"])\n",
        "    drug_combo = data[\"Drug_combo\"][data[\"Accuracy\"] == max_acc].unique()[0]\n",
        "    S_rec = float(data[data[\"Drug_combo\"] == drug_combo][\"S_recall\"])\n",
        "    R_rec = float(data[data[\"Drug_combo\"] == drug_combo][\"R_recall\"])\n",
        "    bestcores_dic[drug_combo] = [max_acc, R_rec, S_rec]\n",
        "  bestscores_df = pd.DataFrame.from_dict(bestcores_dic, orient ='index',columns=[\"Accuracy\", \"R_recall\", \"S_recall\"]).reset_index()\n",
        "  bestscores_df = bestscores_df.rename(columns = {'index':'Drug_combo'})\n",
        "  return bestscores_df"
      ],
      "metadata": {
        "id": "5nca1_fT4_mx"
      },
      "execution_count": null,
      "outputs": []
    },
    {
      "cell_type": "markdown",
      "source": [
        "**b) Using the function for the results from our Logistic Regression model.**"
      ],
      "metadata": {
        "id": "AOou1ru7cyMC"
      }
    },
    {
      "cell_type": "code",
      "source": [
        "# Implementation of function Best_metrics() example with Logistic Regression scores\n",
        "LG_best_metrics = Best_metrics(\"Logistic_Regression\", Model_Scores[\"Logistic_Regression\"])\n",
        "LG_best_metrics"
      ],
      "metadata": {
        "colab": {
          "base_uri": "https://localhost:8080/",
          "height": 444
        },
        "id": "8xa0BRcSNW4s",
        "outputId": "1157dd08-3694-4178-fa37-cf13c11682ac"
      },
      "execution_count": null,
      "outputs": [
        {
          "output_type": "stream",
          "name": "stdout",
          "text": [
            "Selecting Best Scores for model:  Logistic_Regression\n"
          ]
        },
        {
          "output_type": "execute_result",
          "data": {
            "text/plain": [
              "   Drug_combo  Accuracy  R_recall  S_recall\n",
              "0       CTZ_G  0.935837  0.662921  0.980000\n",
              "1      CTX_GY  0.969055  0.868852  0.993902\n",
              "2       AMP_G  0.823741  0.913043  0.563380\n",
              "3      AMX_GY  0.875691  0.879464  0.869565\n",
              "4      AMC_GY  0.780180  0.582353  0.867532\n",
              "5       TZP_G  0.931408  0.090909  0.984645\n",
              "6      CXM_GY  0.876369  0.659218  0.960870\n",
              "7       CET_G  0.852518  0.817391  0.877301\n",
              "8       GEN_G  0.938967  0.696970  0.983333\n",
              "9       TBM_G  0.848921  0.674157  0.931217\n",
              "10      TMP_G  0.870504  0.857143  0.880503\n",
              "11      CIP_G  0.949922  0.842466  0.981744"
            ],
            "text/html": [
              "\n",
              "  <div id=\"df-ae5ef37c-db13-451e-9ba3-85a854de719c\" class=\"colab-df-container\">\n",
              "    <div>\n",
              "<style scoped>\n",
              "    .dataframe tbody tr th:only-of-type {\n",
              "        vertical-align: middle;\n",
              "    }\n",
              "\n",
              "    .dataframe tbody tr th {\n",
              "        vertical-align: top;\n",
              "    }\n",
              "\n",
              "    .dataframe thead th {\n",
              "        text-align: right;\n",
              "    }\n",
              "</style>\n",
              "<table border=\"1\" class=\"dataframe\">\n",
              "  <thead>\n",
              "    <tr style=\"text-align: right;\">\n",
              "      <th></th>\n",
              "      <th>Drug_combo</th>\n",
              "      <th>Accuracy</th>\n",
              "      <th>R_recall</th>\n",
              "      <th>S_recall</th>\n",
              "    </tr>\n",
              "  </thead>\n",
              "  <tbody>\n",
              "    <tr>\n",
              "      <th>0</th>\n",
              "      <td>CTZ_G</td>\n",
              "      <td>0.935837</td>\n",
              "      <td>0.662921</td>\n",
              "      <td>0.980000</td>\n",
              "    </tr>\n",
              "    <tr>\n",
              "      <th>1</th>\n",
              "      <td>CTX_GY</td>\n",
              "      <td>0.969055</td>\n",
              "      <td>0.868852</td>\n",
              "      <td>0.993902</td>\n",
              "    </tr>\n",
              "    <tr>\n",
              "      <th>2</th>\n",
              "      <td>AMP_G</td>\n",
              "      <td>0.823741</td>\n",
              "      <td>0.913043</td>\n",
              "      <td>0.563380</td>\n",
              "    </tr>\n",
              "    <tr>\n",
              "      <th>3</th>\n",
              "      <td>AMX_GY</td>\n",
              "      <td>0.875691</td>\n",
              "      <td>0.879464</td>\n",
              "      <td>0.869565</td>\n",
              "    </tr>\n",
              "    <tr>\n",
              "      <th>4</th>\n",
              "      <td>AMC_GY</td>\n",
              "      <td>0.780180</td>\n",
              "      <td>0.582353</td>\n",
              "      <td>0.867532</td>\n",
              "    </tr>\n",
              "    <tr>\n",
              "      <th>5</th>\n",
              "      <td>TZP_G</td>\n",
              "      <td>0.931408</td>\n",
              "      <td>0.090909</td>\n",
              "      <td>0.984645</td>\n",
              "    </tr>\n",
              "    <tr>\n",
              "      <th>6</th>\n",
              "      <td>CXM_GY</td>\n",
              "      <td>0.876369</td>\n",
              "      <td>0.659218</td>\n",
              "      <td>0.960870</td>\n",
              "    </tr>\n",
              "    <tr>\n",
              "      <th>7</th>\n",
              "      <td>CET_G</td>\n",
              "      <td>0.852518</td>\n",
              "      <td>0.817391</td>\n",
              "      <td>0.877301</td>\n",
              "    </tr>\n",
              "    <tr>\n",
              "      <th>8</th>\n",
              "      <td>GEN_G</td>\n",
              "      <td>0.938967</td>\n",
              "      <td>0.696970</td>\n",
              "      <td>0.983333</td>\n",
              "    </tr>\n",
              "    <tr>\n",
              "      <th>9</th>\n",
              "      <td>TBM_G</td>\n",
              "      <td>0.848921</td>\n",
              "      <td>0.674157</td>\n",
              "      <td>0.931217</td>\n",
              "    </tr>\n",
              "    <tr>\n",
              "      <th>10</th>\n",
              "      <td>TMP_G</td>\n",
              "      <td>0.870504</td>\n",
              "      <td>0.857143</td>\n",
              "      <td>0.880503</td>\n",
              "    </tr>\n",
              "    <tr>\n",
              "      <th>11</th>\n",
              "      <td>CIP_G</td>\n",
              "      <td>0.949922</td>\n",
              "      <td>0.842466</td>\n",
              "      <td>0.981744</td>\n",
              "    </tr>\n",
              "  </tbody>\n",
              "</table>\n",
              "</div>\n",
              "    <div class=\"colab-df-buttons\">\n",
              "\n",
              "  <div class=\"colab-df-container\">\n",
              "    <button class=\"colab-df-convert\" onclick=\"convertToInteractive('df-ae5ef37c-db13-451e-9ba3-85a854de719c')\"\n",
              "            title=\"Convert this dataframe to an interactive table.\"\n",
              "            style=\"display:none;\">\n",
              "\n",
              "  <svg xmlns=\"http://www.w3.org/2000/svg\" height=\"24px\" viewBox=\"0 -960 960 960\">\n",
              "    <path d=\"M120-120v-720h720v720H120Zm60-500h600v-160H180v160Zm220 220h160v-160H400v160Zm0 220h160v-160H400v160ZM180-400h160v-160H180v160Zm440 0h160v-160H620v160ZM180-180h160v-160H180v160Zm440 0h160v-160H620v160Z\"/>\n",
              "  </svg>\n",
              "    </button>\n",
              "\n",
              "  <style>\n",
              "    .colab-df-container {\n",
              "      display:flex;\n",
              "      gap: 12px;\n",
              "    }\n",
              "\n",
              "    .colab-df-convert {\n",
              "      background-color: #E8F0FE;\n",
              "      border: none;\n",
              "      border-radius: 50%;\n",
              "      cursor: pointer;\n",
              "      display: none;\n",
              "      fill: #1967D2;\n",
              "      height: 32px;\n",
              "      padding: 0 0 0 0;\n",
              "      width: 32px;\n",
              "    }\n",
              "\n",
              "    .colab-df-convert:hover {\n",
              "      background-color: #E2EBFA;\n",
              "      box-shadow: 0px 1px 2px rgba(60, 64, 67, 0.3), 0px 1px 3px 1px rgba(60, 64, 67, 0.15);\n",
              "      fill: #174EA6;\n",
              "    }\n",
              "\n",
              "    .colab-df-buttons div {\n",
              "      margin-bottom: 4px;\n",
              "    }\n",
              "\n",
              "    [theme=dark] .colab-df-convert {\n",
              "      background-color: #3B4455;\n",
              "      fill: #D2E3FC;\n",
              "    }\n",
              "\n",
              "    [theme=dark] .colab-df-convert:hover {\n",
              "      background-color: #434B5C;\n",
              "      box-shadow: 0px 1px 3px 1px rgba(0, 0, 0, 0.15);\n",
              "      filter: drop-shadow(0px 1px 2px rgba(0, 0, 0, 0.3));\n",
              "      fill: #FFFFFF;\n",
              "    }\n",
              "  </style>\n",
              "\n",
              "    <script>\n",
              "      const buttonEl =\n",
              "        document.querySelector('#df-ae5ef37c-db13-451e-9ba3-85a854de719c button.colab-df-convert');\n",
              "      buttonEl.style.display =\n",
              "        google.colab.kernel.accessAllowed ? 'block' : 'none';\n",
              "\n",
              "      async function convertToInteractive(key) {\n",
              "        const element = document.querySelector('#df-ae5ef37c-db13-451e-9ba3-85a854de719c');\n",
              "        const dataTable =\n",
              "          await google.colab.kernel.invokeFunction('convertToInteractive',\n",
              "                                                    [key], {});\n",
              "        if (!dataTable) return;\n",
              "\n",
              "        const docLinkHtml = 'Like what you see? Visit the ' +\n",
              "          '<a target=\"_blank\" href=https://colab.research.google.com/notebooks/data_table.ipynb>data table notebook</a>'\n",
              "          + ' to learn more about interactive tables.';\n",
              "        element.innerHTML = '';\n",
              "        dataTable['output_type'] = 'display_data';\n",
              "        await google.colab.output.renderOutput(dataTable, element);\n",
              "        const docLink = document.createElement('div');\n",
              "        docLink.innerHTML = docLinkHtml;\n",
              "        element.appendChild(docLink);\n",
              "      }\n",
              "    </script>\n",
              "  </div>\n",
              "\n",
              "\n",
              "<div id=\"df-198a0c7d-f039-4ab3-9e62-5e020b071b41\">\n",
              "  <button class=\"colab-df-quickchart\" onclick=\"quickchart('df-198a0c7d-f039-4ab3-9e62-5e020b071b41')\"\n",
              "            title=\"Suggest charts\"\n",
              "            style=\"display:none;\">\n",
              "\n",
              "<svg xmlns=\"http://www.w3.org/2000/svg\" height=\"24px\"viewBox=\"0 0 24 24\"\n",
              "     width=\"24px\">\n",
              "    <g>\n",
              "        <path d=\"M19 3H5c-1.1 0-2 .9-2 2v14c0 1.1.9 2 2 2h14c1.1 0 2-.9 2-2V5c0-1.1-.9-2-2-2zM9 17H7v-7h2v7zm4 0h-2V7h2v10zm4 0h-2v-4h2v4z\"/>\n",
              "    </g>\n",
              "</svg>\n",
              "  </button>\n",
              "\n",
              "<style>\n",
              "  .colab-df-quickchart {\n",
              "      --bg-color: #E8F0FE;\n",
              "      --fill-color: #1967D2;\n",
              "      --hover-bg-color: #E2EBFA;\n",
              "      --hover-fill-color: #174EA6;\n",
              "      --disabled-fill-color: #AAA;\n",
              "      --disabled-bg-color: #DDD;\n",
              "  }\n",
              "\n",
              "  [theme=dark] .colab-df-quickchart {\n",
              "      --bg-color: #3B4455;\n",
              "      --fill-color: #D2E3FC;\n",
              "      --hover-bg-color: #434B5C;\n",
              "      --hover-fill-color: #FFFFFF;\n",
              "      --disabled-bg-color: #3B4455;\n",
              "      --disabled-fill-color: #666;\n",
              "  }\n",
              "\n",
              "  .colab-df-quickchart {\n",
              "    background-color: var(--bg-color);\n",
              "    border: none;\n",
              "    border-radius: 50%;\n",
              "    cursor: pointer;\n",
              "    display: none;\n",
              "    fill: var(--fill-color);\n",
              "    height: 32px;\n",
              "    padding: 0;\n",
              "    width: 32px;\n",
              "  }\n",
              "\n",
              "  .colab-df-quickchart:hover {\n",
              "    background-color: var(--hover-bg-color);\n",
              "    box-shadow: 0 1px 2px rgba(60, 64, 67, 0.3), 0 1px 3px 1px rgba(60, 64, 67, 0.15);\n",
              "    fill: var(--button-hover-fill-color);\n",
              "  }\n",
              "\n",
              "  .colab-df-quickchart-complete:disabled,\n",
              "  .colab-df-quickchart-complete:disabled:hover {\n",
              "    background-color: var(--disabled-bg-color);\n",
              "    fill: var(--disabled-fill-color);\n",
              "    box-shadow: none;\n",
              "  }\n",
              "\n",
              "  .colab-df-spinner {\n",
              "    border: 2px solid var(--fill-color);\n",
              "    border-color: transparent;\n",
              "    border-bottom-color: var(--fill-color);\n",
              "    animation:\n",
              "      spin 1s steps(1) infinite;\n",
              "  }\n",
              "\n",
              "  @keyframes spin {\n",
              "    0% {\n",
              "      border-color: transparent;\n",
              "      border-bottom-color: var(--fill-color);\n",
              "      border-left-color: var(--fill-color);\n",
              "    }\n",
              "    20% {\n",
              "      border-color: transparent;\n",
              "      border-left-color: var(--fill-color);\n",
              "      border-top-color: var(--fill-color);\n",
              "    }\n",
              "    30% {\n",
              "      border-color: transparent;\n",
              "      border-left-color: var(--fill-color);\n",
              "      border-top-color: var(--fill-color);\n",
              "      border-right-color: var(--fill-color);\n",
              "    }\n",
              "    40% {\n",
              "      border-color: transparent;\n",
              "      border-right-color: var(--fill-color);\n",
              "      border-top-color: var(--fill-color);\n",
              "    }\n",
              "    60% {\n",
              "      border-color: transparent;\n",
              "      border-right-color: var(--fill-color);\n",
              "    }\n",
              "    80% {\n",
              "      border-color: transparent;\n",
              "      border-right-color: var(--fill-color);\n",
              "      border-bottom-color: var(--fill-color);\n",
              "    }\n",
              "    90% {\n",
              "      border-color: transparent;\n",
              "      border-bottom-color: var(--fill-color);\n",
              "    }\n",
              "  }\n",
              "</style>\n",
              "\n",
              "  <script>\n",
              "    async function quickchart(key) {\n",
              "      const quickchartButtonEl =\n",
              "        document.querySelector('#' + key + ' button');\n",
              "      quickchartButtonEl.disabled = true;  // To prevent multiple clicks.\n",
              "      quickchartButtonEl.classList.add('colab-df-spinner');\n",
              "      try {\n",
              "        const charts = await google.colab.kernel.invokeFunction(\n",
              "            'suggestCharts', [key], {});\n",
              "      } catch (error) {\n",
              "        console.error('Error during call to suggestCharts:', error);\n",
              "      }\n",
              "      quickchartButtonEl.classList.remove('colab-df-spinner');\n",
              "      quickchartButtonEl.classList.add('colab-df-quickchart-complete');\n",
              "    }\n",
              "    (() => {\n",
              "      let quickchartButtonEl =\n",
              "        document.querySelector('#df-198a0c7d-f039-4ab3-9e62-5e020b071b41 button');\n",
              "      quickchartButtonEl.style.display =\n",
              "        google.colab.kernel.accessAllowed ? 'block' : 'none';\n",
              "    })();\n",
              "  </script>\n",
              "</div>\n",
              "\n",
              "  <div id=\"id_6e41dee0-21d7-4050-860f-584c49c160e2\">\n",
              "    <style>\n",
              "      .colab-df-generate {\n",
              "        background-color: #E8F0FE;\n",
              "        border: none;\n",
              "        border-radius: 50%;\n",
              "        cursor: pointer;\n",
              "        display: none;\n",
              "        fill: #1967D2;\n",
              "        height: 32px;\n",
              "        padding: 0 0 0 0;\n",
              "        width: 32px;\n",
              "      }\n",
              "\n",
              "      .colab-df-generate:hover {\n",
              "        background-color: #E2EBFA;\n",
              "        box-shadow: 0px 1px 2px rgba(60, 64, 67, 0.3), 0px 1px 3px 1px rgba(60, 64, 67, 0.15);\n",
              "        fill: #174EA6;\n",
              "      }\n",
              "\n",
              "      [theme=dark] .colab-df-generate {\n",
              "        background-color: #3B4455;\n",
              "        fill: #D2E3FC;\n",
              "      }\n",
              "\n",
              "      [theme=dark] .colab-df-generate:hover {\n",
              "        background-color: #434B5C;\n",
              "        box-shadow: 0px 1px 3px 1px rgba(0, 0, 0, 0.15);\n",
              "        filter: drop-shadow(0px 1px 2px rgba(0, 0, 0, 0.3));\n",
              "        fill: #FFFFFF;\n",
              "      }\n",
              "    </style>\n",
              "    <button class=\"colab-df-generate\" onclick=\"generateWithVariable('LG_best_metrics')\"\n",
              "            title=\"Generate code using this dataframe.\"\n",
              "            style=\"display:none;\">\n",
              "\n",
              "  <svg xmlns=\"http://www.w3.org/2000/svg\" height=\"24px\"viewBox=\"0 0 24 24\"\n",
              "       width=\"24px\">\n",
              "    <path d=\"M7,19H8.4L18.45,9,17,7.55,7,17.6ZM5,21V16.75L18.45,3.32a2,2,0,0,1,2.83,0l1.4,1.43a1.91,1.91,0,0,1,.58,1.4,1.91,1.91,0,0,1-.58,1.4L9.25,21ZM18.45,9,17,7.55Zm-12,3A5.31,5.31,0,0,0,4.9,8.1,5.31,5.31,0,0,0,1,6.5,5.31,5.31,0,0,0,4.9,4.9,5.31,5.31,0,0,0,6.5,1,5.31,5.31,0,0,0,8.1,4.9,5.31,5.31,0,0,0,12,6.5,5.46,5.46,0,0,0,6.5,12Z\"/>\n",
              "  </svg>\n",
              "    </button>\n",
              "    <script>\n",
              "      (() => {\n",
              "      const buttonEl =\n",
              "        document.querySelector('#id_6e41dee0-21d7-4050-860f-584c49c160e2 button.colab-df-generate');\n",
              "      buttonEl.style.display =\n",
              "        google.colab.kernel.accessAllowed ? 'block' : 'none';\n",
              "\n",
              "      buttonEl.onclick = () => {\n",
              "        google.colab.notebook.generateWithVariable('LG_best_metrics');\n",
              "      }\n",
              "      })();\n",
              "    </script>\n",
              "  </div>\n",
              "\n",
              "    </div>\n",
              "  </div>\n"
            ]
          },
          "metadata": {},
          "execution_count": 6
        }
      ]
    },
    {
      "cell_type": "markdown",
      "source": [
        "## **Step 4) Converting combo strings into separate columns**\n",
        "\n",
        "Combo strings for **years of isolation (Y), gene absence/presence (G) and the population structure (S)** data (features).\n",
        "\n",
        "The function below will allow us to plot the squares below our bar graphs so that we can tell which feature combinations were used."
      ],
      "metadata": {
        "id": "wfVa_Cb68iKn"
      }
    },
    {
      "cell_type": "code",
      "source": [
        "# Creating a function that takes the combo strings from Drug_combo column and turns them into separate columns\n",
        "def make_GYS(bestscores_df):\n",
        "  # Create 3 new columns one for each type of features (Year of isolation, gene absence or presence, and population structure)\n",
        "  bestscores_df[\"G\"] = \" \"\n",
        "  bestscores_df[\"Y\"] = \" \"\n",
        "  bestscores_df[\"S\"] = \" \"\n",
        "\n",
        "  # Read the combo part of Drug_combo\n",
        "  split_c = bestscores_df[\"Drug_combo\"].str.split(\"_\", expand=True)\n",
        "  i=0\n",
        "  while i < len(split_c[1]):\n",
        "    split_each_c = [x for x in split_c[1][i]]\n",
        "    for g in split_each_c:\n",
        "      if \"G\" in split_each_c:\n",
        "        bestscores_df.at[i,\"G\"] = 1\n",
        "      else:\n",
        "        bestscores_df.at[i,\"G\"] = 0\n",
        "    for y in split_each_c:\n",
        "      if \"Y\" in split_each_c:\n",
        "        bestscores_df.at[i,\"Y\"] = 1\n",
        "      else:\n",
        "        bestscores_df.at[i,\"Y\"] = 0\n",
        "    for s in split_each_c:\n",
        "      if \"S\" in split_each_c:\n",
        "        bestscores_df.at[i,\"S\"] = 1\n",
        "      else:\n",
        "        bestscores_df.at[i,\"S\"] = 0\n",
        "    i += 1\n",
        "  bestscores_df[\"Drug_combo\"] = bestscores_df[\"Drug_combo\"].map(lambda x: x.rstrip('_GYS'))\n",
        "  bestscores_df.rename(columns={\"Drug_combo\": \"Drug\"}, inplace = True)\n",
        "\n",
        "  return bestscores_df"
      ],
      "metadata": {
        "id": "lwkHfYt6l4Va"
      },
      "execution_count": null,
      "outputs": []
    },
    {
      "cell_type": "markdown",
      "source": [
        "Below is an implementation of the function we just created, using our Logistic Regression results."
      ],
      "metadata": {
        "id": "wIKcVZSld41A"
      }
    },
    {
      "cell_type": "code",
      "source": [
        "# Implementing function make_GYS()\n",
        "GYS_LG_best_metrics = make_GYS(LG_best_metrics)\n",
        "GYS_LG_best_metrics"
      ],
      "metadata": {
        "id": "IlWaoH1vT8ih",
        "colab": {
          "base_uri": "https://localhost:8080/",
          "height": 426
        },
        "outputId": "2f1be017-11fd-4c74-f245-09fac297ffec"
      },
      "execution_count": null,
      "outputs": [
        {
          "output_type": "execute_result",
          "data": {
            "text/plain": [
              "   Drug  Accuracy  R_recall  S_recall  G  Y  S\n",
              "0   CTZ  0.935837  0.662921  0.980000  1  0  0\n",
              "1   CTX  0.969055  0.868852  0.993902  1  1  0\n",
              "2   AMP  0.823741  0.913043  0.563380  1  0  0\n",
              "3   AMX  0.875691  0.879464  0.869565  1  1  0\n",
              "4   AMC  0.780180  0.582353  0.867532  1  1  0\n",
              "5   TZP  0.931408  0.090909  0.984645  1  0  0\n",
              "6   CXM  0.876369  0.659218  0.960870  1  1  0\n",
              "7   CET  0.852518  0.817391  0.877301  1  0  0\n",
              "8   GEN  0.938967  0.696970  0.983333  1  0  0\n",
              "9   TBM  0.848921  0.674157  0.931217  1  0  0\n",
              "10  TMP  0.870504  0.857143  0.880503  1  0  0\n",
              "11  CIP  0.949922  0.842466  0.981744  1  0  0"
            ],
            "text/html": [
              "\n",
              "  <div id=\"df-57e4229b-dcda-4993-95a3-c18b61c9745f\" class=\"colab-df-container\">\n",
              "    <div>\n",
              "<style scoped>\n",
              "    .dataframe tbody tr th:only-of-type {\n",
              "        vertical-align: middle;\n",
              "    }\n",
              "\n",
              "    .dataframe tbody tr th {\n",
              "        vertical-align: top;\n",
              "    }\n",
              "\n",
              "    .dataframe thead th {\n",
              "        text-align: right;\n",
              "    }\n",
              "</style>\n",
              "<table border=\"1\" class=\"dataframe\">\n",
              "  <thead>\n",
              "    <tr style=\"text-align: right;\">\n",
              "      <th></th>\n",
              "      <th>Drug</th>\n",
              "      <th>Accuracy</th>\n",
              "      <th>R_recall</th>\n",
              "      <th>S_recall</th>\n",
              "      <th>G</th>\n",
              "      <th>Y</th>\n",
              "      <th>S</th>\n",
              "    </tr>\n",
              "  </thead>\n",
              "  <tbody>\n",
              "    <tr>\n",
              "      <th>0</th>\n",
              "      <td>CTZ</td>\n",
              "      <td>0.935837</td>\n",
              "      <td>0.662921</td>\n",
              "      <td>0.980000</td>\n",
              "      <td>1</td>\n",
              "      <td>0</td>\n",
              "      <td>0</td>\n",
              "    </tr>\n",
              "    <tr>\n",
              "      <th>1</th>\n",
              "      <td>CTX</td>\n",
              "      <td>0.969055</td>\n",
              "      <td>0.868852</td>\n",
              "      <td>0.993902</td>\n",
              "      <td>1</td>\n",
              "      <td>1</td>\n",
              "      <td>0</td>\n",
              "    </tr>\n",
              "    <tr>\n",
              "      <th>2</th>\n",
              "      <td>AMP</td>\n",
              "      <td>0.823741</td>\n",
              "      <td>0.913043</td>\n",
              "      <td>0.563380</td>\n",
              "      <td>1</td>\n",
              "      <td>0</td>\n",
              "      <td>0</td>\n",
              "    </tr>\n",
              "    <tr>\n",
              "      <th>3</th>\n",
              "      <td>AMX</td>\n",
              "      <td>0.875691</td>\n",
              "      <td>0.879464</td>\n",
              "      <td>0.869565</td>\n",
              "      <td>1</td>\n",
              "      <td>1</td>\n",
              "      <td>0</td>\n",
              "    </tr>\n",
              "    <tr>\n",
              "      <th>4</th>\n",
              "      <td>AMC</td>\n",
              "      <td>0.780180</td>\n",
              "      <td>0.582353</td>\n",
              "      <td>0.867532</td>\n",
              "      <td>1</td>\n",
              "      <td>1</td>\n",
              "      <td>0</td>\n",
              "    </tr>\n",
              "    <tr>\n",
              "      <th>5</th>\n",
              "      <td>TZP</td>\n",
              "      <td>0.931408</td>\n",
              "      <td>0.090909</td>\n",
              "      <td>0.984645</td>\n",
              "      <td>1</td>\n",
              "      <td>0</td>\n",
              "      <td>0</td>\n",
              "    </tr>\n",
              "    <tr>\n",
              "      <th>6</th>\n",
              "      <td>CXM</td>\n",
              "      <td>0.876369</td>\n",
              "      <td>0.659218</td>\n",
              "      <td>0.960870</td>\n",
              "      <td>1</td>\n",
              "      <td>1</td>\n",
              "      <td>0</td>\n",
              "    </tr>\n",
              "    <tr>\n",
              "      <th>7</th>\n",
              "      <td>CET</td>\n",
              "      <td>0.852518</td>\n",
              "      <td>0.817391</td>\n",
              "      <td>0.877301</td>\n",
              "      <td>1</td>\n",
              "      <td>0</td>\n",
              "      <td>0</td>\n",
              "    </tr>\n",
              "    <tr>\n",
              "      <th>8</th>\n",
              "      <td>GEN</td>\n",
              "      <td>0.938967</td>\n",
              "      <td>0.696970</td>\n",
              "      <td>0.983333</td>\n",
              "      <td>1</td>\n",
              "      <td>0</td>\n",
              "      <td>0</td>\n",
              "    </tr>\n",
              "    <tr>\n",
              "      <th>9</th>\n",
              "      <td>TBM</td>\n",
              "      <td>0.848921</td>\n",
              "      <td>0.674157</td>\n",
              "      <td>0.931217</td>\n",
              "      <td>1</td>\n",
              "      <td>0</td>\n",
              "      <td>0</td>\n",
              "    </tr>\n",
              "    <tr>\n",
              "      <th>10</th>\n",
              "      <td>TMP</td>\n",
              "      <td>0.870504</td>\n",
              "      <td>0.857143</td>\n",
              "      <td>0.880503</td>\n",
              "      <td>1</td>\n",
              "      <td>0</td>\n",
              "      <td>0</td>\n",
              "    </tr>\n",
              "    <tr>\n",
              "      <th>11</th>\n",
              "      <td>CIP</td>\n",
              "      <td>0.949922</td>\n",
              "      <td>0.842466</td>\n",
              "      <td>0.981744</td>\n",
              "      <td>1</td>\n",
              "      <td>0</td>\n",
              "      <td>0</td>\n",
              "    </tr>\n",
              "  </tbody>\n",
              "</table>\n",
              "</div>\n",
              "    <div class=\"colab-df-buttons\">\n",
              "\n",
              "  <div class=\"colab-df-container\">\n",
              "    <button class=\"colab-df-convert\" onclick=\"convertToInteractive('df-57e4229b-dcda-4993-95a3-c18b61c9745f')\"\n",
              "            title=\"Convert this dataframe to an interactive table.\"\n",
              "            style=\"display:none;\">\n",
              "\n",
              "  <svg xmlns=\"http://www.w3.org/2000/svg\" height=\"24px\" viewBox=\"0 -960 960 960\">\n",
              "    <path d=\"M120-120v-720h720v720H120Zm60-500h600v-160H180v160Zm220 220h160v-160H400v160Zm0 220h160v-160H400v160ZM180-400h160v-160H180v160Zm440 0h160v-160H620v160ZM180-180h160v-160H180v160Zm440 0h160v-160H620v160Z\"/>\n",
              "  </svg>\n",
              "    </button>\n",
              "\n",
              "  <style>\n",
              "    .colab-df-container {\n",
              "      display:flex;\n",
              "      gap: 12px;\n",
              "    }\n",
              "\n",
              "    .colab-df-convert {\n",
              "      background-color: #E8F0FE;\n",
              "      border: none;\n",
              "      border-radius: 50%;\n",
              "      cursor: pointer;\n",
              "      display: none;\n",
              "      fill: #1967D2;\n",
              "      height: 32px;\n",
              "      padding: 0 0 0 0;\n",
              "      width: 32px;\n",
              "    }\n",
              "\n",
              "    .colab-df-convert:hover {\n",
              "      background-color: #E2EBFA;\n",
              "      box-shadow: 0px 1px 2px rgba(60, 64, 67, 0.3), 0px 1px 3px 1px rgba(60, 64, 67, 0.15);\n",
              "      fill: #174EA6;\n",
              "    }\n",
              "\n",
              "    .colab-df-buttons div {\n",
              "      margin-bottom: 4px;\n",
              "    }\n",
              "\n",
              "    [theme=dark] .colab-df-convert {\n",
              "      background-color: #3B4455;\n",
              "      fill: #D2E3FC;\n",
              "    }\n",
              "\n",
              "    [theme=dark] .colab-df-convert:hover {\n",
              "      background-color: #434B5C;\n",
              "      box-shadow: 0px 1px 3px 1px rgba(0, 0, 0, 0.15);\n",
              "      filter: drop-shadow(0px 1px 2px rgba(0, 0, 0, 0.3));\n",
              "      fill: #FFFFFF;\n",
              "    }\n",
              "  </style>\n",
              "\n",
              "    <script>\n",
              "      const buttonEl =\n",
              "        document.querySelector('#df-57e4229b-dcda-4993-95a3-c18b61c9745f button.colab-df-convert');\n",
              "      buttonEl.style.display =\n",
              "        google.colab.kernel.accessAllowed ? 'block' : 'none';\n",
              "\n",
              "      async function convertToInteractive(key) {\n",
              "        const element = document.querySelector('#df-57e4229b-dcda-4993-95a3-c18b61c9745f');\n",
              "        const dataTable =\n",
              "          await google.colab.kernel.invokeFunction('convertToInteractive',\n",
              "                                                    [key], {});\n",
              "        if (!dataTable) return;\n",
              "\n",
              "        const docLinkHtml = 'Like what you see? Visit the ' +\n",
              "          '<a target=\"_blank\" href=https://colab.research.google.com/notebooks/data_table.ipynb>data table notebook</a>'\n",
              "          + ' to learn more about interactive tables.';\n",
              "        element.innerHTML = '';\n",
              "        dataTable['output_type'] = 'display_data';\n",
              "        await google.colab.output.renderOutput(dataTable, element);\n",
              "        const docLink = document.createElement('div');\n",
              "        docLink.innerHTML = docLinkHtml;\n",
              "        element.appendChild(docLink);\n",
              "      }\n",
              "    </script>\n",
              "  </div>\n",
              "\n",
              "\n",
              "<div id=\"df-3e1aff03-7eb2-4004-a2b1-de55aa78efd8\">\n",
              "  <button class=\"colab-df-quickchart\" onclick=\"quickchart('df-3e1aff03-7eb2-4004-a2b1-de55aa78efd8')\"\n",
              "            title=\"Suggest charts\"\n",
              "            style=\"display:none;\">\n",
              "\n",
              "<svg xmlns=\"http://www.w3.org/2000/svg\" height=\"24px\"viewBox=\"0 0 24 24\"\n",
              "     width=\"24px\">\n",
              "    <g>\n",
              "        <path d=\"M19 3H5c-1.1 0-2 .9-2 2v14c0 1.1.9 2 2 2h14c1.1 0 2-.9 2-2V5c0-1.1-.9-2-2-2zM9 17H7v-7h2v7zm4 0h-2V7h2v10zm4 0h-2v-4h2v4z\"/>\n",
              "    </g>\n",
              "</svg>\n",
              "  </button>\n",
              "\n",
              "<style>\n",
              "  .colab-df-quickchart {\n",
              "      --bg-color: #E8F0FE;\n",
              "      --fill-color: #1967D2;\n",
              "      --hover-bg-color: #E2EBFA;\n",
              "      --hover-fill-color: #174EA6;\n",
              "      --disabled-fill-color: #AAA;\n",
              "      --disabled-bg-color: #DDD;\n",
              "  }\n",
              "\n",
              "  [theme=dark] .colab-df-quickchart {\n",
              "      --bg-color: #3B4455;\n",
              "      --fill-color: #D2E3FC;\n",
              "      --hover-bg-color: #434B5C;\n",
              "      --hover-fill-color: #FFFFFF;\n",
              "      --disabled-bg-color: #3B4455;\n",
              "      --disabled-fill-color: #666;\n",
              "  }\n",
              "\n",
              "  .colab-df-quickchart {\n",
              "    background-color: var(--bg-color);\n",
              "    border: none;\n",
              "    border-radius: 50%;\n",
              "    cursor: pointer;\n",
              "    display: none;\n",
              "    fill: var(--fill-color);\n",
              "    height: 32px;\n",
              "    padding: 0;\n",
              "    width: 32px;\n",
              "  }\n",
              "\n",
              "  .colab-df-quickchart:hover {\n",
              "    background-color: var(--hover-bg-color);\n",
              "    box-shadow: 0 1px 2px rgba(60, 64, 67, 0.3), 0 1px 3px 1px rgba(60, 64, 67, 0.15);\n",
              "    fill: var(--button-hover-fill-color);\n",
              "  }\n",
              "\n",
              "  .colab-df-quickchart-complete:disabled,\n",
              "  .colab-df-quickchart-complete:disabled:hover {\n",
              "    background-color: var(--disabled-bg-color);\n",
              "    fill: var(--disabled-fill-color);\n",
              "    box-shadow: none;\n",
              "  }\n",
              "\n",
              "  .colab-df-spinner {\n",
              "    border: 2px solid var(--fill-color);\n",
              "    border-color: transparent;\n",
              "    border-bottom-color: var(--fill-color);\n",
              "    animation:\n",
              "      spin 1s steps(1) infinite;\n",
              "  }\n",
              "\n",
              "  @keyframes spin {\n",
              "    0% {\n",
              "      border-color: transparent;\n",
              "      border-bottom-color: var(--fill-color);\n",
              "      border-left-color: var(--fill-color);\n",
              "    }\n",
              "    20% {\n",
              "      border-color: transparent;\n",
              "      border-left-color: var(--fill-color);\n",
              "      border-top-color: var(--fill-color);\n",
              "    }\n",
              "    30% {\n",
              "      border-color: transparent;\n",
              "      border-left-color: var(--fill-color);\n",
              "      border-top-color: var(--fill-color);\n",
              "      border-right-color: var(--fill-color);\n",
              "    }\n",
              "    40% {\n",
              "      border-color: transparent;\n",
              "      border-right-color: var(--fill-color);\n",
              "      border-top-color: var(--fill-color);\n",
              "    }\n",
              "    60% {\n",
              "      border-color: transparent;\n",
              "      border-right-color: var(--fill-color);\n",
              "    }\n",
              "    80% {\n",
              "      border-color: transparent;\n",
              "      border-right-color: var(--fill-color);\n",
              "      border-bottom-color: var(--fill-color);\n",
              "    }\n",
              "    90% {\n",
              "      border-color: transparent;\n",
              "      border-bottom-color: var(--fill-color);\n",
              "    }\n",
              "  }\n",
              "</style>\n",
              "\n",
              "  <script>\n",
              "    async function quickchart(key) {\n",
              "      const quickchartButtonEl =\n",
              "        document.querySelector('#' + key + ' button');\n",
              "      quickchartButtonEl.disabled = true;  // To prevent multiple clicks.\n",
              "      quickchartButtonEl.classList.add('colab-df-spinner');\n",
              "      try {\n",
              "        const charts = await google.colab.kernel.invokeFunction(\n",
              "            'suggestCharts', [key], {});\n",
              "      } catch (error) {\n",
              "        console.error('Error during call to suggestCharts:', error);\n",
              "      }\n",
              "      quickchartButtonEl.classList.remove('colab-df-spinner');\n",
              "      quickchartButtonEl.classList.add('colab-df-quickchart-complete');\n",
              "    }\n",
              "    (() => {\n",
              "      let quickchartButtonEl =\n",
              "        document.querySelector('#df-3e1aff03-7eb2-4004-a2b1-de55aa78efd8 button');\n",
              "      quickchartButtonEl.style.display =\n",
              "        google.colab.kernel.accessAllowed ? 'block' : 'none';\n",
              "    })();\n",
              "  </script>\n",
              "</div>\n",
              "\n",
              "  <div id=\"id_c7961713-00f2-464e-9dba-c2f941f4451d\">\n",
              "    <style>\n",
              "      .colab-df-generate {\n",
              "        background-color: #E8F0FE;\n",
              "        border: none;\n",
              "        border-radius: 50%;\n",
              "        cursor: pointer;\n",
              "        display: none;\n",
              "        fill: #1967D2;\n",
              "        height: 32px;\n",
              "        padding: 0 0 0 0;\n",
              "        width: 32px;\n",
              "      }\n",
              "\n",
              "      .colab-df-generate:hover {\n",
              "        background-color: #E2EBFA;\n",
              "        box-shadow: 0px 1px 2px rgba(60, 64, 67, 0.3), 0px 1px 3px 1px rgba(60, 64, 67, 0.15);\n",
              "        fill: #174EA6;\n",
              "      }\n",
              "\n",
              "      [theme=dark] .colab-df-generate {\n",
              "        background-color: #3B4455;\n",
              "        fill: #D2E3FC;\n",
              "      }\n",
              "\n",
              "      [theme=dark] .colab-df-generate:hover {\n",
              "        background-color: #434B5C;\n",
              "        box-shadow: 0px 1px 3px 1px rgba(0, 0, 0, 0.15);\n",
              "        filter: drop-shadow(0px 1px 2px rgba(0, 0, 0, 0.3));\n",
              "        fill: #FFFFFF;\n",
              "      }\n",
              "    </style>\n",
              "    <button class=\"colab-df-generate\" onclick=\"generateWithVariable('LG_best_metrics')\"\n",
              "            title=\"Generate code using this dataframe.\"\n",
              "            style=\"display:none;\">\n",
              "\n",
              "  <svg xmlns=\"http://www.w3.org/2000/svg\" height=\"24px\"viewBox=\"0 0 24 24\"\n",
              "       width=\"24px\">\n",
              "    <path d=\"M7,19H8.4L18.45,9,17,7.55,7,17.6ZM5,21V16.75L18.45,3.32a2,2,0,0,1,2.83,0l1.4,1.43a1.91,1.91,0,0,1,.58,1.4,1.91,1.91,0,0,1-.58,1.4L9.25,21ZM18.45,9,17,7.55Zm-12,3A5.31,5.31,0,0,0,4.9,8.1,5.31,5.31,0,0,0,1,6.5,5.31,5.31,0,0,0,4.9,4.9,5.31,5.31,0,0,0,6.5,1,5.31,5.31,0,0,0,8.1,4.9,5.31,5.31,0,0,0,12,6.5,5.46,5.46,0,0,0,6.5,12Z\"/>\n",
              "  </svg>\n",
              "    </button>\n",
              "    <script>\n",
              "      (() => {\n",
              "      const buttonEl =\n",
              "        document.querySelector('#id_c7961713-00f2-464e-9dba-c2f941f4451d button.colab-df-generate');\n",
              "      buttonEl.style.display =\n",
              "        google.colab.kernel.accessAllowed ? 'block' : 'none';\n",
              "\n",
              "      buttonEl.onclick = () => {\n",
              "        google.colab.notebook.generateWithVariable('LG_best_metrics');\n",
              "      }\n",
              "      })();\n",
              "    </script>\n",
              "  </div>\n",
              "\n",
              "    </div>\n",
              "  </div>\n"
            ]
          },
          "metadata": {},
          "execution_count": 8
        }
      ]
    },
    {
      "cell_type": "markdown",
      "source": [
        "## **Step 5) Extracting best metrics and coding for GYS into columns for all models**\n",
        "\n",
        "We have 3 models so the code below will implement the function we created in the previous step for all 3 models results."
      ],
      "metadata": {
        "id": "GmFOU3Mfw6Ax"
      }
    },
    {
      "cell_type": "code",
      "source": [
        "# Getting the best metrics for all the models\n",
        "Best_metrics_models = {}\n",
        "for model, df in Model_Scores.items():\n",
        "  # select the best scores obtained from each model\n",
        "  Model_best_metrics = Best_metrics(model, df)\n",
        "\n",
        "  # Code GYS data in 0 \"for absence\" and 1 \"for presence\" into 3 columns\n",
        "  GYS_coded_best = make_GYS(Model_best_metrics)\n",
        "  print(GYS_coded_best)\n",
        "\n",
        "  # Save new dataframe in a dictionary with best metrics selected\n",
        "  Best_metrics_models[model] = GYS_coded_best\n"
      ],
      "metadata": {
        "colab": {
          "base_uri": "https://localhost:8080/"
        },
        "id": "DfmpOZNPryWw",
        "outputId": "a38bb455-a794-4dd9-8a17-26232bf1e008"
      },
      "execution_count": null,
      "outputs": [
        {
          "output_type": "stream",
          "name": "stdout",
          "text": [
            "Selecting Best Scores for model:  Logistic_Regression\n",
            "   Drug  Accuracy  R_recall  S_recall  G  Y  S\n",
            "0   CTZ  0.935837  0.662921  0.980000  1  0  0\n",
            "1   CTX  0.969055  0.868852  0.993902  1  1  0\n",
            "2   AMP  0.823741  0.913043  0.563380  1  0  0\n",
            "3   AMX  0.875691  0.879464  0.869565  1  1  0\n",
            "4   AMC  0.780180  0.582353  0.867532  1  1  0\n",
            "5   TZP  0.931408  0.090909  0.984645  1  0  0\n",
            "6   CXM  0.876369  0.659218  0.960870  1  1  0\n",
            "7   CET  0.852518  0.817391  0.877301  1  0  0\n",
            "8   GEN  0.938967  0.696970  0.983333  1  0  0\n",
            "9   TBM  0.848921  0.674157  0.931217  1  0  0\n",
            "10  TMP  0.870504  0.857143  0.880503  1  0  0\n",
            "11  CIP  0.949922  0.842466  0.981744  1  0  0\n",
            "Selecting Best Scores for model:  Random_Forest\n",
            "   Drug  Accuracy  R_recall  S_recall  G  Y  S\n",
            "0   CTZ  0.956182  0.764045  0.987273  1  0  0\n",
            "1   CTX  0.982085  0.926230  0.995935  1  0  0\n",
            "2   AMP  0.913669  0.956522  0.788732  1  1  1\n",
            "3   AMX  0.886740  0.892857  0.876812  1  0  0\n",
            "4   AMC  0.805405  0.576471  0.906494  1  1  1\n",
            "5   TZP  0.936823  0.060606  0.992322  1  1  1\n",
            "6   CXM  0.887324  0.659218  0.976087  1  0  1\n",
            "7   CET  0.920863  0.869565  0.957055  1  1  1\n",
            "8   GEN  0.965571  0.808081  0.994444  1  0  0\n",
            "9   TBM  0.928058  0.831461  0.973545  1  0  1\n",
            "10  TMP  0.935252  0.941176  0.930818  1  1  1\n",
            "11  CIP  0.953052  0.849315  0.983773  1  0  0\n",
            "Selecting Best Scores for model:  Gradient_Boosted_Trees\n",
            "   Drug  Accuracy  R_recall  S_recall  G  Y  S\n",
            "0   CTZ  0.956182  0.764045  0.987273  1  0  0\n",
            "1   CTX  0.982085  0.926230  0.995935  1  0  0\n",
            "2   AMP  0.913669  0.956522  0.788732  1  1  1\n",
            "3   AMX  0.886740  0.892857  0.876812  1  0  0\n",
            "4   AMC  0.805405  0.576471  0.906494  1  1  1\n",
            "5   TZP  0.936823  0.060606  0.992322  1  1  1\n",
            "6   CXM  0.887324  0.659218  0.976087  1  0  1\n",
            "7   CET  0.920863  0.869565  0.957055  1  1  1\n",
            "8   GEN  0.965571  0.808081  0.994444  1  0  0\n",
            "9   TBM  0.928058  0.831461  0.973545  1  0  1\n",
            "10  TMP  0.935252  0.941176  0.930818  1  1  1\n",
            "11  CIP  0.953052  0.849315  0.983773  1  0  0\n"
          ]
        }
      ]
    },
    {
      "cell_type": "markdown",
      "source": [
        "## **Step 6) Creating a function to plots bar charts for each metric**\n",
        "The function we create below will allow us to graph the bar charts for each of our antibiotic drugs."
      ],
      "metadata": {
        "id": "DHN5qX9420VL"
      }
    },
    {
      "cell_type": "code",
      "source": [
        "def barplot(metric_col, subplot_axis, label_show = True):\n",
        "  for model, df in Best_metrics_models.items():\n",
        "    X_axis = np.arange(len(drug_list))\n",
        "    X_labels = drug_list\n",
        "\n",
        "    Y_axis = np.arange(0,1.2,0.2)\n",
        "\n",
        "    subplot_axis.set_ylabel(metric_col, fontsize = 14)\n",
        "    subplot_axis.set_ylim(bottom=0, top=1)\n",
        "\n",
        "    subplot_axis.set_xticklabels(X_labels, fontsize = 15)\n",
        "    subplot_axis.set_xticks(X_axis)\n",
        "    subplot_axis.margins(x=0)\n",
        "\n",
        "    if label_show == False:\n",
        "      subplot_axis.tick_params(left = True, right = False , labelleft = True , labelbottom = False, bottom = True)\n",
        "\n",
        "    if model == \"Logistic_Regression\":\n",
        "      X_axis = X_axis - 0.2\n",
        "      color = \"plum\"\n",
        "      label = \"LG\"\n",
        "      subplot_axis.bar(X_axis, list(df[metric_col]), width =.25, align = 'center', color = color, label = label, edgecolor=\"gray\")\n",
        "    elif model == \"Random_Forest\":\n",
        "      X_axis = X_axis + 0.075\n",
        "      color = \"cadetblue\"\n",
        "      label = \"RF\"\n",
        "      subplot_axis.bar(X_axis, list(df[metric_col]), width =.25, align = 'center', color = color, label = label, edgecolor=\"gray\")\n",
        "    elif model == \"Gradient_Boosted_Trees\":\n",
        "      X_axis = X_axis + 0.35\n",
        "      color = \"goldenrod\"\n",
        "      label = \"GB\"\n",
        "      subplot_axis.bar(X_axis, list(df[metric_col]), width =.25, align = 'center', color = color, label = label, edgecolor=\"gray\")\n",
        "  return\n"
      ],
      "metadata": {
        "id": "PI7lzr7c4WMD"
      },
      "execution_count": null,
      "outputs": []
    },
    {
      "cell_type": "markdown",
      "source": [
        "Below we implement this function for the best results obtained in our Logistic Regression Model. In this case we will be plotting the \"Accuracy\""
      ],
      "metadata": {
        "id": "bJmpkOPbg8DY"
      }
    },
    {
      "cell_type": "code",
      "source": [
        "# implementing function barplot() for one metric \"Accuracy\"\n",
        "figure, subs = plt.subplots(1, 1,figsize = (12,9))\n",
        "acc_plot = barplot(\"Accuracy\",subs,label_show=True)"
      ],
      "metadata": {
        "colab": {
          "base_uri": "https://localhost:8080/",
          "height": 801
        },
        "id": "m_KHDt9HLpWj",
        "outputId": "54c8c3a7-4257-4e97-ebc8-84842aee3faf"
      },
      "execution_count": null,
      "outputs": [
        {
          "output_type": "stream",
          "name": "stderr",
          "text": [
            "<ipython-input-10-092e439ac933>:11: UserWarning: FixedFormatter should only be used together with FixedLocator\n",
            "  subplot_axis.set_xticklabels(X_labels, fontsize = 15)\n"
          ]
        },
        {
          "output_type": "display_data",
          "data": {
            "text/plain": [
              "<Figure size 1200x900 with 1 Axes>"
            ],
            "image/png": "[encoded data removed]"
          },
          "metadata": {}
        }
      ]
    },
    {
      "cell_type": "markdown",
      "source": [
        "## **Task 1**:\n",
        "- Create bar charts using the function above for the best Resistance (R) recall scores.  "
      ],
      "metadata": {
        "id": "NJ3vQZJPhZ3s"
      }
    },
    {
      "cell_type": "code",
      "source": [
        "# Input your code for task 1 in this cell!\n",
        "figure, subs = plt.subplots(1, 1,figsize = (12,9))\n",
        "acc_plot = barplot(\"R_recall\",subs,label_show=True)"
      ],
      "metadata": {
        "id": "v9QvvwLJObg0",
        "colab": {
          "base_uri": "https://localhost:8080/",
          "height": 801
        },
        "outputId": "d74e81ec-004a-4c9d-d004-693371b98b57"
      },
      "execution_count": null,
      "outputs": [
        {
          "output_type": "stream",
          "name": "stderr",
          "text": [
            "<ipython-input-10-092e439ac933>:11: UserWarning: FixedFormatter should only be used together with FixedLocator\n",
            "  subplot_axis.set_xticklabels(X_labels, fontsize = 15)\n"
          ]
        },
        {
          "output_type": "display_data",
          "data": {
            "text/plain": [
              "<Figure size 1200x900 with 1 Axes>"
            ],
            "image/png": "[encoded data removed]"
          },
          "metadata": {}
        }
      ]
    },
    {
      "cell_type": "markdown",
      "source": [
        "## **Step 7) Creating a function to plot GYS grids for each drug**\n",
        "The function below will let us introduce the graphics below each drug, to show us what is the best combination of features."
      ],
      "metadata": {
        "id": "2u7tQmwslrC_"
      }
    },
    {
      "cell_type": "code",
      "source": [
        "# function that creates a graph for each of the drugs\n",
        "def GYS_gridplot(drug,subplot_axis, label_show = True, title_pos = -0.2):\n",
        "  # Create 3 new lists one for each type of features (Year, Population structure and Gene presence)\n",
        "  Y_list = [] # storing whether it used or not year data\n",
        "  S_list = [] # storing whether it used or not population structure data\n",
        "  G_list = [] # storing whether it used or not accessory gene data\n",
        "\n",
        "  # Fill up corresponding lists from drug results from each model\n",
        "  for model, df in Best_metrics_models.items():\n",
        "    for drug_name in df[\"Drug\"]:\n",
        "      if drug_name == drug:\n",
        "        Y_list.append(int(df[\"Y\"][df[\"Drug\"]==drug]))\n",
        "        S_list.append(int(df[\"S\"][df[\"Drug\"]==drug]))\n",
        "        G_list.append(int(df[\"G\"][df[\"Drug\"]==drug]))\n",
        "\n",
        "  Drug_GYS_list = [Y_list, S_list, G_list]\n",
        "\n",
        "  plt.yticks(np.arange(3), [\"Year\", \"Structure\", \"Accessory Genes\"])\n",
        "  if label_show == False:\n",
        "      subplot_axis.tick_params(left = False, labelleft = False)\n",
        "\n",
        "  orig_map = plt.cm.get_cmap('gray')\n",
        "  reversed_map = orig_map.reversed()\n",
        "  subplot_axis.imshow(Drug_GYS_list, cmap = reversed_map)\n",
        "\n",
        "  subplot_axis.axvline(x=0.5)\n",
        "  subplot_axis.axvline(x=1.5)\n",
        "  subplot_axis.axvline(x=2.5)\n",
        "  subplot_axis.axhline(y=0.5)\n",
        "  subplot_axis.axhline(y=1.5)\n",
        "  subplot_axis.set_title(drug, fontsize= 15, y=title_pos)\n",
        "  subplot_axis.tick_params(\n",
        "    axis = 'x',\n",
        "    which = 'both',\n",
        "    bottom = False,\n",
        "    top = False,\n",
        "    labelbottom = False)\n",
        "  return [Y_list, S_list, G_list]"
      ],
      "metadata": {
        "id": "I3HdYBHIqxcy"
      },
      "execution_count": null,
      "outputs": []
    },
    {
      "cell_type": "markdown",
      "source": [
        "The example implementation below shows us the best results obtained from the drug \"CTZ\" for each of the 3 models. In this case the order would be: **Logistic Regression, Random Forest and Gradient-Boosted Trees**."
      ],
      "metadata": {
        "id": "Rte5RG0FiAMc"
      }
    },
    {
      "cell_type": "code",
      "source": [
        "# implementing function GYS_gridplot() for one drug \"CTZ\"\n",
        "figure, subs = plt.subplots()\n",
        "CTZ_gridplot = GYS_gridplot(\"CTZ\",subs, label_show=True)"
      ],
      "metadata": {
        "colab": {
          "base_uri": "https://localhost:8080/",
          "height": 532
        },
        "id": "b8X4Vg7Dl8eF",
        "outputId": "d4eb4f25-debc-4f5e-bf11-53ad742f78db"
      },
      "execution_count": null,
      "outputs": [
        {
          "output_type": "stream",
          "name": "stderr",
          "text": [
            "<ipython-input-13-7b624cc67cd1>:22: MatplotlibDeprecationWarning: The get_cmap function was deprecated in Matplotlib 3.7 and will be removed two minor releases later. Use ``matplotlib.colormaps[name]`` or ``matplotlib.colormaps.get_cmap(obj)`` instead.\n",
            "  orig_map = plt.cm.get_cmap('gray')\n"
          ]
        },
        {
          "output_type": "display_data",
          "data": {
            "text/plain": [
              "<Figure size 640x480 with 1 Axes>"
            ],
            "image/png": "[encoded data removed]"
          },
          "metadata": {}
        }
      ]
    },
    {
      "cell_type": "markdown",
      "source": [
        "## **Step 8) Create the final composite graph (Bargraphs + GYS gridplots)**\n",
        "\n",
        "Below we create our composite plot (bar charts for each measurement + gridplots) for each of the drugs."
      ],
      "metadata": {
        "id": "8y8GnAPHpac1"
      }
    },
    {
      "cell_type": "code",
      "source": [
        "# Code to create bargraphs\n",
        "\n",
        "fig = plt.figure(figsize = (20,15), constrained_layout=False)\n",
        "\n",
        "gs1 = fig.add_gridspec(nrows=4, ncols=12, left=0.05, right=0.6, wspace=0.07)\n",
        "# Accuracy barcharts for all models\n",
        "acc_axis = fig.add_subplot(gs1[0, :])\n",
        "acc_axis.set_title('Prediction of Antibiotic Resistance From Pan-Genome Data', fontsize = 20)\n",
        "acc_plot = barplot(\"Accuracy\",acc_axis, label_show = False)\n",
        "\n",
        "# R_recall barcharts for all models\n",
        "R_rec_axis = fig.add_subplot(gs1[1, :])\n",
        "R_rec_plot = barplot('R_recall',R_rec_axis, label_show = False)\n",
        "\n",
        "# S_recall barcharts for all models\n",
        "S_rec_axis = fig.add_subplot(gs1[2, :])\n",
        "S_rec_plot = barplot('S_recall',S_rec_axis, label_show = False)\n",
        "\n",
        "# GYS gridplot charts for each drug\n",
        "gs2 = fig.add_gridspec(nrows=1, ncols=12, top=0.50,bottom=0,left=0.05, right=0.6, wspace=0.2)\n",
        "i=0\n",
        "while (i< len(drug_list)):\n",
        "  for drug in drug_list:\n",
        "    if i == 0:\n",
        "      Drug_grid = fig.add_subplot(gs2[-1, i])\n",
        "      drug_GYS = GYS_gridplot(drug, Drug_grid, label_show=True, title_pos=-0.5)\n",
        "      i+=1\n",
        "    else:\n",
        "      Drug_grid = fig.add_subplot(gs2[-1, i])\n",
        "      drug_GYS = GYS_gridplot(drug, Drug_grid, label_show=False, title_pos=-0.5)\n",
        "      i+=1\n",
        "\n",
        "legend_elements = [Patch(facecolor='plum', edgecolor='plum', label='LG'),\n",
        "                   Patch(facecolor='cadetblue', edgecolor='cadetblue', label='RF'),\n",
        "                   Patch(facecolor='goldenrod', edgecolor='goldenrod', label='GB'),\n",
        "                   Patch(facecolor='black', edgecolor=\"black\", label='Used'),\n",
        "                   Patch(facecolor='white', edgecolor=\"black\",label='Not Used')]\n",
        "\n",
        "plt.legend(handles=legend_elements,loc = 'lower center', bbox_to_anchor=(-6.1, -1), prop ={'size': 15}, borderaxespad=-2, ncol = len(legend_elements))\n",
        "\n"
      ],
      "metadata": {
        "colab": {
          "base_uri": "https://localhost:8080/",
          "height": 1000
        },
        "outputId": "653fc340-7b25-4409-b97d-cb31dce8e877",
        "id": "phhRs6WNd77S"
      },
      "execution_count": null,
      "outputs": [
        {
          "output_type": "stream",
          "name": "stderr",
          "text": [
            "<ipython-input-10-092e439ac933>:11: UserWarning: FixedFormatter should only be used together with FixedLocator\n",
            "  subplot_axis.set_xticklabels(X_labels, fontsize = 15)\n",
            "<ipython-input-13-7b624cc67cd1>:22: MatplotlibDeprecationWarning: The get_cmap function was deprecated in Matplotlib 3.7 and will be removed two minor releases later. Use ``matplotlib.colormaps[name]`` or ``matplotlib.colormaps.get_cmap(obj)`` instead.\n",
            "  orig_map = plt.cm.get_cmap('gray')\n"
          ]
        },
        {
          "output_type": "execute_result",
          "data": {
            "text/plain": [
              "<matplotlib.legend.Legend at 0x7f4e961e9240>"
            ]
          },
          "metadata": {},
          "execution_count": 15
        },
        {
          "output_type": "display_data",
          "data": {
            "text/plain": [
              "<Figure size 2000x1500 with 15 Axes>"
            ],
            "image/png": "[encoded data removed]"
          },
          "metadata": {}
        }
      ]
    },
    {
      "cell_type": "markdown",
      "source": [
        "## **Task 2**:\n",
        "\n",
        "- Look at the results from our final graph, do you think there might be ways to improve our results?\n",
        "\n",
        "- Consider some of the following: would you use different models? Different hyperparameters? Collect more data? Use different parts of the data?"
      ],
      "metadata": {
        "id": "mROs8SxqsjJy"
      }
    },
    {
      "cell_type": "markdown",
      "source": [
        "**Task 2 answer:**"
      ],
      "metadata": {
        "id": "_5PoigXdqwN1"
      }
    },
    {
      "cell_type": "markdown",
      "source": [
        "1. I think there is way to impove our result.\n",
        "2. I would use different hyperparameters for different models and use more data points and drop\n",
        "unnecessary data points."
      ],
      "metadata": {
        "id": "fSqdLjxmOt_p"
      }
    },
    {
      "cell_type": "markdown",
      "source": [
        "# 🙂 Congratulations, you are done with this module! Now you know how to check if a model performs better for a specific dataset you need to work on for your projects."
      ],
      "metadata": {
        "id": "1UsrBTAk5buA"
      }
    }
  ]
}